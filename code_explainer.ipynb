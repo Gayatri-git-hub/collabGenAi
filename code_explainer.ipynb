#Building a new app using Google colab. This app will help user to explain in simple English what the code is doing.
