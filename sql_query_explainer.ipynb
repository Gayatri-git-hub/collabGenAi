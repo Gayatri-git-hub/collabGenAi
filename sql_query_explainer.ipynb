{
  "nbformat": 4,
  "nbformat_minor": 0,
  "metadata": {
    "colab": {
      "provenance": [],
      "authorship_tag": "ABX9TyNe2WMGnPCVVj2tDj3OWkQl",
      "include_colab_link": true
    },
    "kernelspec": {
      "name": "python3",
      "display_name": "Python 3"
    },
    "language_info": {
      "name": "python"
    }
  },
  "cells": [
    {
      "cell_type": "markdown",
      "metadata": {
        "id": "view-in-github",
        "colab_type": "text"
      },
      "source": [
        "<a href=\"https://colab.research.google.com/github/Gayatri-git-hub/collabGenAi/blob/main/sql_query_explainer.ipynb\" target=\"_parent\"><img src=\"https://colab.research.google.com/assets/colab-badge.svg\" alt=\"Open In Colab\"/></a>"
      ]
    },
    {
      "cell_type": "code",
      "execution_count": 2,
      "metadata": {
        "id": "LgQXX80lGIMU"
      },
      "outputs": [],
      "source": [
        "!pip install -q google-generativeai"
      ]
    },
    {
      "cell_type": "code",
      "source": [
        "import google.generativeai as genai\n",
        "from google.colab import userdata\n",
        "\n",
        "api_key = userdata.get('GEMINI_API_KEY')\n",
        "\n",
        "genai.configure(api_key=api_key)\n",
        "\n",
        "def explain_code_with_gemini(sql_query):\n",
        "  prompt = f\"\"\"\n",
        "    You are a code assistant that explains given SQL in simple English.\n",
        "    Explain the following SQL Query:\n",
        "\n",
        "    {sql_query}\n",
        "    \"\"\"\n",
        "  model = genai.GenerativeModel('models/gemini-1.5-flash')\n",
        "  response = model.generate_content(prompt)\n",
        "  return response.text\n",
        "\n",
        "sql_input = input(\"Enter a SQL Query: \")\n",
        "print(explain_code_with_gemini(sql_input))"
      ],
      "metadata": {
        "colab": {
          "base_uri": "https://localhost:8080/",
          "height": 315
        },
        "id": "LRkVD1hYG4U2",
        "outputId": "2758e724-6e5c-460e-c5fe-f64b50a7cc32"
      },
      "execution_count": 7,
      "outputs": [
        {
          "output_type": "stream",
          "name": "stdout",
          "text": [
            "Enter a SQL Query: select * from Employee where name ='Roger' order by salary desc limit 10;\n",
            "This SQL query retrieves information about employees named 'Roger'.\n",
            "\n",
            "Let's break it down:\n",
            "\n",
            "* `select * from Employee`: This part selects all columns (`*`) from the table named `Employee`.  It's saying \"Get me everything from the Employee table\".\n",
            "\n",
            "* `where name = 'Roger'`: This filters the results to include only rows where the `name` column is equal to 'Roger'. It's saying \"But only show me the rows where the employee's name is Roger\".\n",
            "\n",
            "* `order by salary desc`: This sorts the results in descending order based on the `salary` column.  This means the highest salaries will appear first. It's saying \"And arrange the results from highest salary to lowest\".\n",
            "\n",
            "* `limit 10`: This limits the number of rows returned to the top 10. It's saying \"Only give me the top 10 results after sorting\".\n",
            "\n",
            "\n",
            "In short, the query finds all employees named 'Roger', sorts them by salary from highest to lowest, and then only shows the top 10 highest-earning Rogers.\n",
            "\n"
          ]
        }
      ]
    },
    {
      "cell_type": "markdown",
      "source": [
        "select * from Employee where name ='Roger' order by salary desc limit 10;"
      ],
      "metadata": {
        "id": "WVJdEVftJtS8"
      }
    }
  ]
}